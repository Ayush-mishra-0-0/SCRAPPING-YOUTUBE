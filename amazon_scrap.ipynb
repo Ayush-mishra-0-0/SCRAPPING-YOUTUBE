{
  "cells": [
    {
      "cell_type": "markdown",
      "metadata": {
        "id": "view-in-github",
        "colab_type": "text"
      },
      "source": [
        "<a href=\"https://colab.research.google.com/github/Ayush-mishra-0-0/SCRAPPING-YOUTUBE/blob/main/amazon_scrap.ipynb\" target=\"_parent\"><img src=\"https://colab.research.google.com/assets/colab-badge.svg\" alt=\"Open In Colab\"/></a>"
      ]
    },
    {
      "cell_type": "code",
      "execution_count": null,
      "metadata": {
        "id": "LC_-L2P0UcF0"
      },
      "outputs": [],
      "source": [
        "import pandas as pd\n",
        "import numpy as np\n",
        "from selenium import webdriver\n",
        "import urllib\n",
        "import pathlib\n",
        "import time\n",
        "from datetime import datetime\n",
        "from selenium.webdriver.common.by import By\n",
        "from selenium.webdriver.support.ui import WebDriverWait\n",
        "from selenium.webdriver.support import expected_conditions as EC\n",
        "import urllib.parse"
      ]
    },
    {
      "cell_type": "code",
      "execution_count": null,
      "metadata": {
        "id": "hAMevkLIUcF1"
      },
      "outputs": [],
      "source": [
        "chrome_options = webdriver.ChromeOptions()\n",
        "chrome_options.add_argument('--headless')\n",
        "# chrome_options.add_argument('--no-sandbox')\n",
        "# chrome_options.add_argument('--disable-dev-shm-usage')\n",
        "# chrome_options.add_argument('--incognito')\n",
        "driver = webdriver.Chrome( options=chrome_options)"
      ]
    },
    {
      "cell_type": "code",
      "execution_count": null,
      "metadata": {
        "id": "d3XKvxz1UcF1"
      },
      "outputs": [],
      "source": [
        "web = 'https://www.amazon.com'\n",
        "driver.get(web)"
      ]
    },
    {
      "cell_type": "code",
      "execution_count": null,
      "metadata": {
        "id": "GCw3Y8yMUcF2"
      },
      "outputs": [],
      "source": [
        "from selenium.webdriver.common.by import By\n",
        "from selenium.webdriver.support.ui import WebDriverWait as wait\n",
        "from selenium.webdriver.support import expected_conditions as EC"
      ]
    },
    {
      "cell_type": "code",
      "execution_count": null,
      "metadata": {
        "id": "XOIj_8wQUcF2"
      },
      "outputs": [],
      "source": [
        "driver.implicitly_wait(5)\n",
        "keyword = \"wireless charger\"\n",
        "search = driver.find_element(By.ID, 'twotabsearchtextbox')\n",
        "search.send_keys(keyword)\n",
        "search_button = driver.find_element(By.ID, 'nav-search-submit-button')\n",
        "search_button.click()\n",
        "\n",
        "driver.implicitly_wait(5)"
      ]
    },
    {
      "cell_type": "code",
      "execution_count": null,
      "metadata": {
        "id": "vO_UxF8dUcF2"
      },
      "outputs": [],
      "source": [
        "keyword = \"wireless charger\"\n",
        "search = driver.find_element(By.ID, 'twotabsearchtextbox')\n",
        "search.send_keys(keyword)\n",
        "search_button = driver.find_element(By.ID, 'nav-search-submit-button')\n",
        "search_button.click()\n",
        "\n",
        "driver.implicitly_wait(5)"
      ]
    },
    {
      "cell_type": "code",
      "execution_count": null,
      "metadata": {
        "id": "zLzAp5-cUcF2"
      },
      "outputs": [],
      "source": [
        "product_asin = []\n",
        "product_name = []\n",
        "product_price = []\n",
        "product_ratings = []\n",
        "product_ratings_num = []\n",
        "product_link = []"
      ]
    },
    {
      "cell_type": "code",
      "execution_count": null,
      "metadata": {
        "id": "1jpzLBHWUcF2"
      },
      "outputs": [],
      "source": [
        "items = wait(driver, 10).until(EC.presence_of_all_elements_located((By.XPATH, '//div[contains(@class, \"s-result-item s-asin\")]')))"
      ]
    },
    {
      "cell_type": "code",
      "execution_count": null,
      "metadata": {
        "id": "A6suYWnnUcF2"
      },
      "outputs": [],
      "source": [
        "from selenium.common.exceptions import NoSuchElementException\n",
        "for item in items:\n",
        "    name = item.find_element(By.XPATH, './/span[@class=\"a-size-medium a-color-base a-text-normal\"]')\n",
        "    product_name.append(name.text)\n",
        "    data_asin = item.get_attribute(\"data-asin\")\n",
        "    product_asin.append(data_asin)\n",
        "    whole_price = item.find_elements(By.XPATH, './/span[@class=\"a-price-whole\"]')\n",
        "    fraction_price = item.find_elements(By.XPATH, './/span[@class=\"a-price-fraction\"]')\n",
        "\n",
        "    if whole_price != [] and fraction_price != []:\n",
        "        price = '.'.join([whole_price[0].text, fraction_price[0].text])\n",
        "    else:\n",
        "        price = 0\n",
        "    product_price.append(price)\n",
        "    ratings_box = item.find_elements(By.XPATH, './/div[@class=\"a-row a-size-small\"]/span')\n",
        "    if ratings_box != []:\n",
        "        ratings = ratings_box[0].get_attribute('aria-label')\n",
        "        ratings_num = ratings_box[1].get_attribute('aria-label')\n",
        "    else:\n",
        "        ratings, ratings_num = 0, 0\n",
        "\n",
        "    product_ratings.append(ratings)\n",
        "    product_ratings_num.append(str(ratings_num))\n",
        "    # a-link-normal s-underline-text s-underline-link-text s-link-style a-text-normal\n",
        "    try:\n",
        "        link = item.find_element(By.XPATH, './/a[@class=\"a-link-normal s-underline-text s-underline-link-text s-link-style a-text-normal\"]').get_attribute(\"href\")\n",
        "        product_link.append(link)\n",
        "    except NoSuchElementException:\n",
        "        product_link.append(\"Link not available\")\n"
      ]
    },
    {
      "cell_type": "code",
      "execution_count": null,
      "metadata": {
        "id": "4fInsFjnUcF2"
      },
      "outputs": [],
      "source": [
        "driver.quit()"
      ]
    },
    {
      "cell_type": "code",
      "execution_count": null,
      "metadata": {
        "id": "MjdSWs77UcF3",
        "outputId": "a342b6ef-fb9b-4fe9-f3b1-097b04909d27"
      },
      "outputs": [
        {
          "name": "stdout",
          "output_type": "stream",
          "text": [
            "['Wireless Charging Station, 3 in 1 Wireless Charger Stand, Fast Wireless Charging for iPhone 15 14 13 12 11Pro Max XR XS 8 Plus, for Apple Watch 8 7 6 5 4 3 2 SE, for Airpods 3 2 Pro(White)', 'Magnetic Wireless Charger: Mag-Safe iPhone Charging Pad Compatible with iPhone 15 Pro Max Plus 14 Pro Max Plus 13 Pro Max 12 Pro Max - Mag Charger Pad for AirPods Pro 3 2 with 20W Type-C PD Adapter', 'Fast Wireless Charger, [2 Pack] NANAMI Qi Certified Wireless Charging Stand for iPhone 15/14/13/12/12 Pro Max/SE 2020/11/XR/XS/X/8, Samsung Galaxy S22/S21/S20/S10/S9/S8/S7,Note 20/10/9,Pixel 6/5/4XL', 'Wireless Charging Station, 3 in 1 Fast Desk Charging Station, Wireless Charger Stand for iPhone 14/13/12/11 Pro Max/X/Xs Max/8/8 Plus, AirPods 3/2/pro, iWatch Series 8/7/6/5/SE/4/3/2', 'INIU Wireless Charger, 15W Fast Wireless Charging Station with Sleep-Friendly Adaptive Light Compatible with iPhone 15 14 13 12 Pro XR XS 8 Plus Samsung Galaxy S23 S22 S21 S20 Note 20 10 Google etc', 'Yootech Wireless Charger,10W Max Fast Wireless Charging Pad Compatible with iPhone 15/15 Plus/15 Pro Max/14/13/SE 2022/12/11/X/8,Samsung Galaxy S22/S21/S20,for AirPods Pro 2(No AC Adapter)', 'ESR 25W 3-in-1 Charger Stand for Magsafe, Made for Apple-Certified Magnetic Wireless Charger, 15W Charging Station for iPhone 15/14/13 Apple Watch/AirPods Pro, Phone-Cooling Charger, White', 'Wireless Charger, 3 in 1 Fast Wireless Charging Station, Wireless Charging Stand Dock 18W Foldable for Apple Watch SE/7/6/5/4/3/2 AirPods 3/2/Pro iPhone 13/12/11/Pro/XS/Xs Max/XR/X/SE/8/8 Plus', '3 in 1 Charging Station for iPhone, Wireless Charger for iPhone 15 14 13 12 11 X Pro Max & Apple Watch - Charging Stand Dock for AirPods 3/2/1/Pro', 'Wireless Charger [2 Pack],15W Fast Wireless Charging Stand,Wireless Charger Compatible with iPhone 15/15 Plus/15 Pro Max/14/13/12 /11Pro Max/XR/XS/X/8 Plus,Galaxy S23/S22/S21/S20 Note 20/10,Google,etc', 'Magnetic Wireless Charger Fast Apple Mag-Safe Charger for iPhone 15 Pro Max/15 Pro/15/15 Plus/14/13/12 Series AirPods 3/2/Pro/Pro 2 LED Magnet Charging Pad Mag Safe Charger with Dual Charging Ports', 'Wireless Charger, 15W Max Fast Wireless Charging Pad 2-Pack Compatible with iPhone 15/15 Pro/15 Plus/15 ProMax/14/14 Pro/14 Plus/13/12/Samsung S21/S20/Note 10/Edge Note 20Ultra/S10, AirPods Pro', 'Charging Station for Samsung: 3 in 1 Fast Charger Station for Samsung S23 Ultra S22 S21 Note20 10 Z Flip Z Fold - Wireless Watch Charger for Galaxy Watch 6 5 Pro 4 3, Galaxy Buds Charging Dock Stand', 'Belkin 3-in-1 Wireless Charger - Fast Charging Stand for Apple iPhone, Apple Watch & AirPods Case Compatible Qi Station For Multiple Devices - Black', 'TOZO W1 Wireless Charger, 10W Qi-Certified Fast Charging Pad with Aviation Aluminum Computer Numerical Control Technology Compatible with iPhone 15 14 13 12 Series, for Samsung Galaxy Series', 'LISEN 3 in 1 Charging Station for Apple Devices Magsafe Wireless Charger Pad for iPhone, Travel Wireless Charging Station for Multiple Devices Fits iPhone 15 Pro Max Magsafe Charger Airpods I Watch']\n",
            "['B0B76T5J93', 'B09HBFNQBR', 'B09Z1VB733', 'B0BVTP8JZ9', 'B08LVSFN4X', 'B079KZ49PJ', 'B0CD1X5LKQ', 'B0B45WMT3R', 'B0BFCC18FS', 'B09SHG435M', 'B0C2BQ8NQC', 'B09SHQFVPW', 'B0CKTFFDGL', 'B086KNLM5M', 'B07FM8R7J1', 'B0CC5JCJPV']\n",
            "['29.99', '19.99', '27.98', '39.99', '15.98', '10.99', '139.99', '19.99', '29.99', '27.99', '12.39', '20.99', '29.99', '89.46', '13.99', '39.99']\n",
            "['4.3 out of 5 stars', '4.4 out of 5 stars', '4.4 out of 5 stars', '4.4 out of 5 stars', '4.3 out of 5 stars', '4.3 out of 5 stars', '4.7 out of 5 stars', '4.3 out of 5 stars', '4.3 out of 5 stars', '4.3 out of 5 stars', '4.5 out of 5 stars', '4.1 out of 5 stars', '4.0 out of 5 stars', '4.3 out of 5 stars', '4.3 out of 5 stars', '3.9 out of 5 stars']\n",
            "['2,048', '10,133', '6,995', '1,908', '27,144', '191,656', '977', '1,810', '8,698', '1,716', '1,828', '3,876', '102', '3,193', '86,842', '165']\n",
            "['https://www.amazon.com/Wireless-Charging-Station-Charger-Airpods/dp/B0B76T5J93/ref=sr_1_1?keywords=wireless+charger+wireless+charger&qid=1701415695&sr=8-1', 'https://www.amazon.com/Bohuma-C10-Wireless-Charger/dp/B09HBFNQBR/ref=sr_1_2?keywords=wireless+charger+wireless+charger&qid=1701415695&sr=8-2', 'https://www.amazon.com/Wireless-Charger-NANAMI-Certified-Charging/dp/B09Z1VB733/ref=sr_1_3?keywords=wireless+charger+wireless+charger&qid=1701415695&sr=8-3', 'https://www.amazon.com/Wireless-Charging-Station-Charger-AirPods/dp/B0BVTP8JZ9/ref=sr_1_4?keywords=wireless+charger+wireless+charger&qid=1701415695&sr=8-4', 'https://www.amazon.com/INIU-Wireless-Qi-Certified-Sleep-Friendly-Compatible/dp/B08LVSFN4X/ref=sr_1_5?keywords=wireless+charger+wireless+charger&qid=1701415695&sr=8-5', 'https://www.amazon.com/Wireless-Qi-Certified-Charging-Compatible-Qi-Enabled/dp/B079KZ49PJ/ref=sr_1_6?keywords=wireless+charger+wireless+charger&qid=1701415695&sr=8-6', 'https://www.amazon.com/ESR-Apple-Certified-Magnetic-Wireless-Phone-Cooling/dp/B0CD1X5LKQ/ref=sr_1_7?keywords=wireless+charger+wireless+charger&qid=1701415695&sr=8-7', 'https://www.amazon.com/Wireless-Charger-Charging-Station-Foldable/dp/B0B45WMT3R/ref=sr_1_8?keywords=wireless+charger+wireless+charger&qid=1701415695&sr=8-8', 'https://www.amazon.com/Charging-Station-iPhone-Wireless-Charger/dp/B0BFCC18FS/ref=sr_1_9?keywords=wireless+charger+wireless+charger&qid=1701415695&sr=8-9', 'https://www.amazon.com/Wireless-Charger-iPhone-Compatible-Qi-Enable/dp/B09SHG435M/ref=sr_1_10?keywords=wireless+charger+wireless+charger&qid=1701415695&sr=8-10', 'https://www.amazon.com/Magnetic-Wireless-Charger-Mag-Safe-Charging/dp/B0C2BQ8NQC/ref=sr_1_11?keywords=wireless+charger+wireless+charger&qid=1701415695&sr=8-11', 'https://www.amazon.com/Wireless-Charger-Qi-Certified-Charging-Compatible/dp/B09SHQFVPW/ref=sr_1_12?keywords=wireless+charger+wireless+charger&qid=1701415695&sr=8-12', 'https://www.amazon.com/Charging-Station-Samsung-Charger-Wireless/dp/B0CKTFFDGL/ref=sr_1_13?keywords=wireless+charger+wireless+charger&qid=1701415695&sr=8-13', 'https://www.amazon.com/Belkin-3-Wireless-Charger-Compatible/dp/B086KNLM5M/ref=sr_1_14?keywords=wireless+charger+wireless+charger&qid=1701415695&sr=8-14', 'https://www.amazon.com/TOZO-W1-Qi-Certified-Technology-Compatible/dp/B07FM8R7J1/ref=sr_1_15?keywords=wireless+charger+wireless+charger&qid=1701415695&sr=8-15', 'https://www.amazon.com/LISEN-Charging-Station-Wireless-Multiple/dp/B0CC5JCJPV/ref=sr_1_16?keywords=wireless+charger+wireless+charger&qid=1701415695&sr=8-16', 'Link not available']\n"
          ]
        }
      ],
      "source": [
        "# to check data scraped\n",
        "print(product_name)\n",
        "print(product_asin)\n",
        "print(product_price)\n",
        "print(product_ratings)\n",
        "print(product_ratings_num)\n",
        "print(product_link)"
      ]
    },
    {
      "cell_type": "code",
      "execution_count": null,
      "metadata": {
        "id": "eafI05l8UcF3"
      },
      "outputs": [],
      "source": [
        "product_link=product_link[0:16]"
      ]
    },
    {
      "cell_type": "code",
      "execution_count": null,
      "metadata": {
        "id": "AaIXWaQ_UcF3",
        "outputId": "8dccc4fb-2d85-450d-8c3c-4cb6b9b8f3d4"
      },
      "outputs": [
        {
          "data": {
            "text/plain": [
              "16"
            ]
          },
          "execution_count": 96,
          "metadata": {},
          "output_type": "execute_result"
        }
      ],
      "source": [
        "len(product_link)"
      ]
    },
    {
      "cell_type": "code",
      "execution_count": null,
      "metadata": {
        "id": "5knxYHyaUcF3"
      },
      "outputs": [],
      "source": [
        "data = {\n",
        "    'Name': product_name,\n",
        "    'ASIN': product_asin,\n",
        "    'Price': product_price,\n",
        "    'Ratings': product_ratings,\n",
        "    'Ratings_Num': product_ratings_num,\n",
        "    'Link': product_link\n",
        "}\n",
        "df = pd.DataFrame(data)"
      ]
    },
    {
      "cell_type": "code",
      "execution_count": null,
      "metadata": {
        "id": "fyVQtCFzUcF3",
        "outputId": "999a0cb4-b309-4471-f7e7-cc9f5735b270"
      },
      "outputs": [
        {
          "data": {
            "text/html": [
              "<div>\n",
              "<style scoped>\n",
              "    .dataframe tbody tr th:only-of-type {\n",
              "        vertical-align: middle;\n",
              "    }\n",
              "\n",
              "    .dataframe tbody tr th {\n",
              "        vertical-align: top;\n",
              "    }\n",
              "\n",
              "    .dataframe thead th {\n",
              "        text-align: right;\n",
              "    }\n",
              "</style>\n",
              "<table border=\"1\" class=\"dataframe\">\n",
              "  <thead>\n",
              "    <tr style=\"text-align: right;\">\n",
              "      <th></th>\n",
              "      <th>Name</th>\n",
              "      <th>ASIN</th>\n",
              "      <th>Price</th>\n",
              "      <th>Ratings</th>\n",
              "      <th>Ratings_Num</th>\n",
              "      <th>Link</th>\n",
              "    </tr>\n",
              "  </thead>\n",
              "  <tbody>\n",
              "    <tr>\n",
              "      <th>0</th>\n",
              "      <td>Wireless Charging Station, 3 in 1 Wireless Cha...</td>\n",
              "      <td>B0B76T5J93</td>\n",
              "      <td>29.99</td>\n",
              "      <td>4.3 out of 5 stars</td>\n",
              "      <td>2,048</td>\n",
              "      <td>https://www.amazon.com/Wireless-Charging-Stati...</td>\n",
              "    </tr>\n",
              "    <tr>\n",
              "      <th>1</th>\n",
              "      <td>Magnetic Wireless Charger: Mag-Safe iPhone Cha...</td>\n",
              "      <td>B09HBFNQBR</td>\n",
              "      <td>19.99</td>\n",
              "      <td>4.4 out of 5 stars</td>\n",
              "      <td>10,133</td>\n",
              "      <td>https://www.amazon.com/Bohuma-C10-Wireless-Cha...</td>\n",
              "    </tr>\n",
              "    <tr>\n",
              "      <th>2</th>\n",
              "      <td>Fast Wireless Charger, [2 Pack] NANAMI Qi Cert...</td>\n",
              "      <td>B09Z1VB733</td>\n",
              "      <td>27.98</td>\n",
              "      <td>4.4 out of 5 stars</td>\n",
              "      <td>6,995</td>\n",
              "      <td>https://www.amazon.com/Wireless-Charger-NANAMI...</td>\n",
              "    </tr>\n",
              "    <tr>\n",
              "      <th>3</th>\n",
              "      <td>Wireless Charging Station, 3 in 1 Fast Desk Ch...</td>\n",
              "      <td>B0BVTP8JZ9</td>\n",
              "      <td>39.99</td>\n",
              "      <td>4.4 out of 5 stars</td>\n",
              "      <td>1,908</td>\n",
              "      <td>https://www.amazon.com/Wireless-Charging-Stati...</td>\n",
              "    </tr>\n",
              "    <tr>\n",
              "      <th>4</th>\n",
              "      <td>INIU Wireless Charger, 15W Fast Wireless Charg...</td>\n",
              "      <td>B08LVSFN4X</td>\n",
              "      <td>15.98</td>\n",
              "      <td>4.3 out of 5 stars</td>\n",
              "      <td>27,144</td>\n",
              "      <td>https://www.amazon.com/INIU-Wireless-Qi-Certif...</td>\n",
              "    </tr>\n",
              "  </tbody>\n",
              "</table>\n",
              "</div>"
            ],
            "text/plain": [
              "                                                Name        ASIN  Price  \\\n",
              "0  Wireless Charging Station, 3 in 1 Wireless Cha...  B0B76T5J93  29.99   \n",
              "1  Magnetic Wireless Charger: Mag-Safe iPhone Cha...  B09HBFNQBR  19.99   \n",
              "2  Fast Wireless Charger, [2 Pack] NANAMI Qi Cert...  B09Z1VB733  27.98   \n",
              "3  Wireless Charging Station, 3 in 1 Fast Desk Ch...  B0BVTP8JZ9  39.99   \n",
              "4  INIU Wireless Charger, 15W Fast Wireless Charg...  B08LVSFN4X  15.98   \n",
              "\n",
              "              Ratings Ratings_Num  \\\n",
              "0  4.3 out of 5 stars       2,048   \n",
              "1  4.4 out of 5 stars      10,133   \n",
              "2  4.4 out of 5 stars       6,995   \n",
              "3  4.4 out of 5 stars       1,908   \n",
              "4  4.3 out of 5 stars      27,144   \n",
              "\n",
              "                                                Link  \n",
              "0  https://www.amazon.com/Wireless-Charging-Stati...  \n",
              "1  https://www.amazon.com/Bohuma-C10-Wireless-Cha...  \n",
              "2  https://www.amazon.com/Wireless-Charger-NANAMI...  \n",
              "3  https://www.amazon.com/Wireless-Charging-Stati...  \n",
              "4  https://www.amazon.com/INIU-Wireless-Qi-Certif...  "
            ]
          },
          "execution_count": 98,
          "metadata": {},
          "output_type": "execute_result"
        }
      ],
      "source": [
        "df.head()"
      ]
    },
    {
      "cell_type": "code",
      "execution_count": null,
      "metadata": {
        "id": "X5i_eBVWUcF3"
      },
      "outputs": [],
      "source": []
    }
  ],
  "metadata": {
    "kernelspec": {
      "display_name": "tf",
      "language": "python",
      "name": "python3"
    },
    "language_info": {
      "codemirror_mode": {
        "name": "ipython",
        "version": 3
      },
      "file_extension": ".py",
      "mimetype": "text/x-python",
      "name": "python",
      "nbconvert_exporter": "python",
      "pygments_lexer": "ipython3",
      "version": "3.10.13"
    },
    "colab": {
      "provenance": [],
      "include_colab_link": true
    }
  },
  "nbformat": 4,
  "nbformat_minor": 0
}