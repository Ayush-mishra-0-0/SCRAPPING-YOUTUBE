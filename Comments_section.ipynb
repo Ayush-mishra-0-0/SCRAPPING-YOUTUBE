{
 "cells": [
  {
   "cell_type": "markdown",
   "metadata": {},
   "source": [
    "# YouTube Comments Scrapping \n",
    "    \n",
    "   **BY - AYUSH KUMAR MISHRA**"
   ]
  },
  {
   "cell_type": "code",
   "execution_count": null,
   "metadata": {},
   "outputs": [],
   "source": [
    "#importing the required Libraries\n",
    "import pandas as pd\n",
    "import numpy as np\n",
    "from selenium import webdriver \n",
    "import urllib\n",
    "import pathlib\n",
    "import time\n",
    "from datetime import datetime"
   ]
  },
  {
   "cell_type": "code",
   "execution_count": null,
   "metadata": {},
   "outputs": [],
   "source": [
    "chrome_options = webdriver.ChromeOptions()\n",
    "chrome_options.add_argument('--headless')\n",
    "chrome_options.add_argument('--no-sandbox')\n",
    "chrome_options.add_argument('--disable-dev-shm-usage')\n",
    "chrome_options.add_argument('--incognito')\n",
    "driver = webdriver.Chrome( options=chrome_options)\n",
    "\n",
    "search_item = ['Physical health']"
   ]
  },
  {
   "cell_type": "markdown",
   "metadata": {},
   "source": [
    "Making a function for getting the links from the web"
   ]
  },
  {
   "cell_type": "code",
   "execution_count": null,
   "metadata": {},
   "outputs": [],
   "source": [
    "# Function to get links\n",
    "def get_links(item) :    \n",
    "    query = urllib.parse.quote(item)\n",
    "    url = \"https://www.youtube.com/results?search_query=\" + query\n",
    "    driver.get(url)\n",
    "    driver.execute_script(\"window.scrollTo(0, 1000000)\")\n",
    "    driver.maximize_window()\n",
    "    container=driver.find_elements_by_xpath('//*[(@id = \"video-title\")]')\n",
    "    links=[]\n",
    "    for page in container:\n",
    "        url=page.get_attribute(\"href\")\n",
    "        links.append(url)\n",
    "    return list(set(links))"
   ]
  },
  {
   "cell_type": "code",
   "execution_count": null,
   "metadata": {},
   "outputs": [],
   "source": [
    "dfs = []\n",
    "for item in search_item:\n",
    "    links = get_links(item)\n",
    "    df = pd.DataFrame({'Item': [item] * len(links), 'Links': links})\n",
    "    dfs.append(df)\n",
    "final_df = pd.concat(dfs, ignore_index=True)  \n",
    "final_df.to_csv('Links.csv', index=False)  \n",
    "final_df"
   ]
  },
  {
   "cell_type": "code",
   "execution_count": null,
   "metadata": {},
   "outputs": [],
   "source": [
    "len(final_df)"
   ]
  },
  {
   "cell_type": "code",
   "execution_count": null,
   "metadata": {},
   "outputs": [],
   "source": [
    "null_counts = final_df.groupby('Item')['Links'].apply(lambda x: x.isnull().sum())\n",
    "print(null_counts)"
   ]
  },
  {
   "cell_type": "code",
   "execution_count": null,
   "metadata": {},
   "outputs": [],
   "source": [
    "df = final_df.dropna()\n",
    "null_counts = df.groupby('Item')['Links'].apply(lambda x: x.isnull().sum())\n",
    "print(null_counts)"
   ]
  },
  {
   "cell_type": "code",
   "execution_count": null,
   "metadata": {},
   "outputs": [],
   "source": [
    "videos_dictionary = {}\n",
    "videos_dictionary['Comments'] = {}\n",
    "videos_dictionary['Video Link'] = {}"
   ]
  },
  {
   "cell_type": "markdown",
   "metadata": {},
   "source": [
    "Defining the function to scrap the required information from the links"
   ]
  },
  {
   "cell_type": "code",
   "execution_count": null,
   "metadata": {},
   "outputs": [],
   "source": [
    "def scrap(url,i):\n",
    "    print('Fetched date and time - ',datetime.now().strftime(\"%d/%m/%Y %H:%M:%S\"))\n",
    "    try :\n",
    "        videos_dictionary['Video Link'].update({i : url})\n",
    "    except:        \n",
    "        videos_dictionary['Video Link'].update({i :''})\n",
    "    driver.get(url)\n",
    "    time.sleep(3)\n",
    "    comments =  driver.find_element_by_xpath('//*[@id=\"comments\"]')\n",
    "    driver.execute_script(\"arguments[0].scrollIntoView();\", comments)\n",
    "    last_height = driver.execute_script(\"return document.documentElement.scrollHeight\")\n",
    "    while True:\n",
    "        driver.execute_script(\"window.scrollTo(0, document.documentElement.scrollHeight);\")\n",
    "        time.sleep(1)\n",
    "        new_height = driver.execute_script(\"return document.documentElement.scrollHeight\")\n",
    "        if new_height == last_height:\n",
    "            break\n",
    "        last_height = new_height\n",
    "    username_elems = driver.find_elements_by_xpath('//*[@id=\"author-text\"]')\n",
    "    comment_elems = driver.find_elements_by_xpath('//*[@id=\"content-text\"]')\n",
    "    comment_string = ''\n",
    "    for user, comment in zip(username_elems, comment_elems):\n",
    "        comment_string = comment_string + user.text + ' - ' + comment.text + '\\n'\n",
    "    try :\n",
    "        videos_dictionary['Comments'].update({i : comment_string})\n",
    "    except :\n",
    "        videos_dictionary['Comments'].update({i : ''})"
   ]
  },
  {
   "cell_type": "markdown",
   "metadata": {},
   "source": [
    "First check the file exist to save the data that has been scrapped from the links. If the file does not exist, then create one. If it exist then check whether it is empty or not.\n",
    "\n",
    "If not empty, then extract data drom the links not present in the file."
   ]
  },
  {
   "cell_type": "code",
   "execution_count": null,
   "metadata": {},
   "outputs": [],
   "source": [
    "start = 0\n",
    "name = 'Youtube_scrapping_comments.csv'\n",
    "file_name = pathlib.Path(name)\n",
    "if file_name.exists():\n",
    "    print (\"File exist.\")\n",
    "    try :\n",
    "        print(\"Reading the file now\")\n",
    "        df_temp = pd.read_csv(name, index_col = 0)\n",
    "        start = (len(df_temp) )\n",
    "    except:\n",
    "        print(\"File is empty\")\n",
    "else:\n",
    "    print (\"File does not exist\\n\", \"Creating the file\")\n",
    "    file = open(name,\"w+\")\n",
    "    print(\"File created successfully with filename - \",name)\n",
    "print(\"Starting from position - \", start)"
   ]
  },
  {
   "cell_type": "code",
   "execution_count": null,
   "metadata": {
    "scrolled": true
   },
   "outputs": [],
   "source": [
    "# Scrapping the comments\n",
    "for num in range(start, len(df)):\n",
    "    url = df['Links'].iloc[num]  \n",
    "    print(\"Loop entered\")\n",
    "    try:\n",
    "        print(\"getting link-\", num)\n",
    "        driver.get(url)\n",
    "    except:\n",
    "        print(\"Not getting\")\n",
    "        continue\n",
    "    print(\"=\" * 40) \n",
    "    print(\"Scraping \" + url)\n",
    "    scrap(url, num)\n",
    "    print(\"=\" * 40) \n",
    "print(\"Process ended successfully\")\n"
   ]
  },
  {
   "cell_type": "code",
   "execution_count": null,
   "metadata": {},
   "outputs": [],
   "source": [
    "# Converting into table for better visuals\n",
    "data = pd.DataFrame.from_dict(videos_dictionary)\n",
    "try:\n",
    "    result = pd.concat([df_temp,data], ignore_index = True)\n",
    "    result\n",
    "except :\n",
    "    result = data\n",
    "result"
   ]
  },
  {
   "cell_type": "code",
   "execution_count": null,
   "metadata": {},
   "outputs": [],
   "source": [
    "results = result.dropna()\n",
    "videos_dictionary = {}\n",
    "results"
   ]
  },
  {
   "cell_type": "code",
   "execution_count": null,
   "metadata": {},
   "outputs": [],
   "source": [
    "# results.iloc[[0]]['Comments']\n",
    "\n",
    "# Print all comments for the first video link\n",
    "for i in range(len(df)):\n",
    "     vn = results.iloc[i]['Video Link']\n",
    "     print(vn)\n",
    "     print(\"==\"*40)\n",
    "     first_video_comments = results.iloc[i]['Comments']\n",
    "     print(first_video_comments)\n",
    "    "
   ]
  },
  {
   "cell_type": "code",
   "execution_count": null,
   "metadata": {},
   "outputs": [],
   "source": [
    "driver.close()"
   ]
  },
  {
   "cell_type": "markdown",
   "metadata": {},
   "source": [
    "# END\n",
    "\n",
    "**Made By - AYUSH KUMAR MISHRA**"
   ]
  },
  {
   "cell_type": "code",
   "execution_count": null,
   "metadata": {},
   "outputs": [],
   "source": []
  }
 ],
 "metadata": {
  "kernelspec": {
   "display_name": "Python 3",
   "language": "python",
   "name": "python3"
  },
  "language_info": {
   "codemirror_mode": {
    "name": "ipython",
    "version": 3
   },
   "file_extension": ".py",
   "mimetype": "text/x-python",
   "name": "python",
   "nbconvert_exporter": "python",
   "pygments_lexer": "ipython3",
   "version": "3.11.4"
  }
 },
 "nbformat": 4,
 "nbformat_minor": 4
}
