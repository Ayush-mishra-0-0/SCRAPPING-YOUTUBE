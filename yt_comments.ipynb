{
 "cells": [
  {
   "cell_type": "code",
   "execution_count": 27,
   "metadata": {},
   "outputs": [],
   "source": [
    "import pandas as pd\n",
    "import numpy as np"
   ]
  },
  {
   "cell_type": "code",
   "execution_count": 28,
   "metadata": {},
   "outputs": [
    {
     "data": {
      "text/html": [
       "<div>\n",
       "<style scoped>\n",
       "    .dataframe tbody tr th:only-of-type {\n",
       "        vertical-align: middle;\n",
       "    }\n",
       "\n",
       "    .dataframe tbody tr th {\n",
       "        vertical-align: top;\n",
       "    }\n",
       "\n",
       "    .dataframe thead th {\n",
       "        text-align: right;\n",
       "    }\n",
       "</style>\n",
       "<table border=\"1\" class=\"dataframe\">\n",
       "  <thead>\n",
       "    <tr style=\"text-align: right;\">\n",
       "      <th></th>\n",
       "      <th>Video Link</th>\n",
       "      <th>Video Title</th>\n",
       "      <th>Item</th>\n",
       "      <th>Cleaned_Comments</th>\n",
       "    </tr>\n",
       "  </thead>\n",
       "  <tbody>\n",
       "    <tr>\n",
       "      <th>0</th>\n",
       "      <td>https://www.youtube.com/watch?v=VWyXT7-pBMI&amp;pp...</td>\n",
       "      <td>REPRODUCTIVE HEALTH in One Shot - All Theory, ...</td>\n",
       "      <td>Physical Health</td>\n",
       "      <td>@practiceneetmcqs - Becoming a doctor is your ...</td>\n",
       "    </tr>\n",
       "    <tr>\n",
       "      <th>1</th>\n",
       "      <td>https://www.youtube.com/watch?v=Am4RxFIuBZQ&amp;pp...</td>\n",
       "      <td>The Secret to Being a Happy Wife - Jen Weaver</td>\n",
       "      <td>Physical Health</td>\n",
       "      <td>@farticusmaximus2757 - i don't think pelvic ex...</td>\n",
       "    </tr>\n",
       "    <tr>\n",
       "      <th>2</th>\n",
       "      <td>https://www.youtube.com/watch?v=VU-otWoiaJw&amp;pp...</td>\n",
       "      <td>Is Home Birth Dangerous? | ObGyn Compares Hosp...</td>\n",
       "      <td>Physical Health</td>\n",
       "      <td>- Check out our video on abortion myths on th...</td>\n",
       "    </tr>\n",
       "    <tr>\n",
       "      <th>3</th>\n",
       "      <td>https://www.youtube.com/watch?v=pml0_8GFl3w&amp;pp...</td>\n",
       "      <td>Zoology : NCERT Line by Line</td>\n",
       "      <td>Physical Health</td>\n",
       "      <td>- Check NCERT Line by Line (Yakeen NEET Dropp...</td>\n",
       "    </tr>\n",
       "    <tr>\n",
       "      <th>4</th>\n",
       "      <td>https://www.youtube.com/watch?v=0HiZSpX9EcI&amp;pp...</td>\n",
       "      <td>Mix – Unacademy NEET</td>\n",
       "      <td>Physical Health</td>\n",
       "      <td>- Set Reminder for next chapter- \\n@aashijain...</td>\n",
       "    </tr>\n",
       "  </tbody>\n",
       "</table>\n",
       "</div>"
      ],
      "text/plain": [
       "                                          Video Link  \\\n",
       "0  https://www.youtube.com/watch?v=VWyXT7-pBMI&pp...   \n",
       "1  https://www.youtube.com/watch?v=Am4RxFIuBZQ&pp...   \n",
       "2  https://www.youtube.com/watch?v=VU-otWoiaJw&pp...   \n",
       "3  https://www.youtube.com/watch?v=pml0_8GFl3w&pp...   \n",
       "4  https://www.youtube.com/watch?v=0HiZSpX9EcI&pp...   \n",
       "\n",
       "                                         Video Title             Item  \\\n",
       "0  REPRODUCTIVE HEALTH in One Shot - All Theory, ...  Physical Health   \n",
       "1      The Secret to Being a Happy Wife - Jen Weaver  Physical Health   \n",
       "2  Is Home Birth Dangerous? | ObGyn Compares Hosp...  Physical Health   \n",
       "3                       Zoology : NCERT Line by Line  Physical Health   \n",
       "4                               Mix – Unacademy NEET  Physical Health   \n",
       "\n",
       "                                    Cleaned_Comments  \n",
       "0  @practiceneetmcqs - Becoming a doctor is your ...  \n",
       "1  @farticusmaximus2757 - i don't think pelvic ex...  \n",
       "2   - Check out our video on abortion myths on th...  \n",
       "3   - Check NCERT Line by Line (Yakeen NEET Dropp...  \n",
       "4   - Set Reminder for next chapter- \\n@aashijain...  "
      ]
     },
     "execution_count": 28,
     "metadata": {},
     "output_type": "execute_result"
    }
   ],
   "source": [
    "df= pd.read_csv('Youtube_scrapping_comments.csv')\n",
    "df.head()"
   ]
  },
  {
   "cell_type": "code",
   "execution_count": 29,
   "metadata": {},
   "outputs": [
    {
     "data": {
      "text/plain": [
       "array(['Physical Health', nan], dtype=object)"
      ]
     },
     "execution_count": 29,
     "metadata": {},
     "output_type": "execute_result"
    }
   ],
   "source": [
    "df['Item'].unique()"
   ]
  },
  {
   "cell_type": "code",
   "execution_count": 31,
   "metadata": {},
   "outputs": [],
   "source": [
    "df1= pd.read_csv('Links.csv')"
   ]
  },
  {
   "cell_type": "code",
   "execution_count": 39,
   "metadata": {},
   "outputs": [],
   "source": [
    "df = df.rename(columns={'Video Link': 'Links'})"
   ]
  },
  {
   "cell_type": "code",
   "execution_count": 41,
   "metadata": {},
   "outputs": [],
   "source": [
    "df1= df1.rename(columns={'Item': 'Items'})"
   ]
  },
  {
   "cell_type": "code",
   "execution_count": 43,
   "metadata": {},
   "outputs": [
    {
     "data": {
      "text/html": [
       "<div>\n",
       "<style scoped>\n",
       "    .dataframe tbody tr th:only-of-type {\n",
       "        vertical-align: middle;\n",
       "    }\n",
       "\n",
       "    .dataframe tbody tr th {\n",
       "        vertical-align: top;\n",
       "    }\n",
       "\n",
       "    .dataframe thead th {\n",
       "        text-align: right;\n",
       "    }\n",
       "</style>\n",
       "<table border=\"1\" class=\"dataframe\">\n",
       "  <thead>\n",
       "    <tr style=\"text-align: right;\">\n",
       "      <th></th>\n",
       "      <th>Items</th>\n",
       "      <th>Video Title</th>\n",
       "      <th>Links</th>\n",
       "    </tr>\n",
       "  </thead>\n",
       "  <tbody>\n",
       "    <tr>\n",
       "      <th>48</th>\n",
       "      <td>Mental health</td>\n",
       "      <td>8 Things You Can Do To Improve Your Mental Health</td>\n",
       "      <td>https://www.youtube.com/watch?v=3QIfkeA6HBY&amp;pp...</td>\n",
       "    </tr>\n",
       "    <tr>\n",
       "      <th>679</th>\n",
       "      <td>Personal hygiene</td>\n",
       "      <td>A revolutionary new fluoride-free formula that...</td>\n",
       "      <td>NaN</td>\n",
       "    </tr>\n",
       "    <tr>\n",
       "      <th>13</th>\n",
       "      <td>Physical Health</td>\n",
       "      <td>Physical health is Also important as mental he...</td>\n",
       "      <td>NaN</td>\n",
       "    </tr>\n",
       "    <tr>\n",
       "      <th>295</th>\n",
       "      <td>Occupational health</td>\n",
       "      <td>What is an occupational health assessment? (S1E1)</td>\n",
       "      <td>https://www.youtube.com/watch?v=ptPQmXyzPvQ&amp;pp...</td>\n",
       "    </tr>\n",
       "    <tr>\n",
       "      <th>318</th>\n",
       "      <td>Occupational health</td>\n",
       "      <td>Occupational Diseases | PSM lecture | Communit...</td>\n",
       "      <td>https://www.youtube.com/watch?v=UGHIX3EO2VE&amp;pp...</td>\n",
       "    </tr>\n",
       "  </tbody>\n",
       "</table>\n",
       "</div>"
      ],
      "text/plain": [
       "                   Items                                        Video Title  \\\n",
       "48         Mental health  8 Things You Can Do To Improve Your Mental Health   \n",
       "679     Personal hygiene  A revolutionary new fluoride-free formula that...   \n",
       "13       Physical Health  Physical health is Also important as mental he...   \n",
       "295  Occupational health  What is an occupational health assessment? (S1E1)   \n",
       "318  Occupational health  Occupational Diseases | PSM lecture | Communit...   \n",
       "\n",
       "                                                 Links  \n",
       "48   https://www.youtube.com/watch?v=3QIfkeA6HBY&pp...  \n",
       "679                                                NaN  \n",
       "13                                                 NaN  \n",
       "295  https://www.youtube.com/watch?v=ptPQmXyzPvQ&pp...  \n",
       "318  https://www.youtube.com/watch?v=UGHIX3EO2VE&pp...  "
      ]
     },
     "execution_count": 43,
     "metadata": {},
     "output_type": "execute_result"
    }
   ],
   "source": [
    "df1.sample(5)"
   ]
  },
  {
   "cell_type": "code",
   "execution_count": 40,
   "metadata": {},
   "outputs": [
    {
     "data": {
      "text/html": [
       "<div>\n",
       "<style scoped>\n",
       "    .dataframe tbody tr th:only-of-type {\n",
       "        vertical-align: middle;\n",
       "    }\n",
       "\n",
       "    .dataframe tbody tr th {\n",
       "        vertical-align: top;\n",
       "    }\n",
       "\n",
       "    .dataframe thead th {\n",
       "        text-align: right;\n",
       "    }\n",
       "</style>\n",
       "<table border=\"1\" class=\"dataframe\">\n",
       "  <thead>\n",
       "    <tr style=\"text-align: right;\">\n",
       "      <th></th>\n",
       "      <th>Links</th>\n",
       "      <th>Video Title</th>\n",
       "      <th>Item</th>\n",
       "      <th>Cleaned_Comments</th>\n",
       "    </tr>\n",
       "  </thead>\n",
       "  <tbody>\n",
       "    <tr>\n",
       "      <th>0</th>\n",
       "      <td>https://www.youtube.com/watch?v=VWyXT7-pBMI&amp;pp...</td>\n",
       "      <td>REPRODUCTIVE HEALTH in One Shot - All Theory, ...</td>\n",
       "      <td>Physical Health</td>\n",
       "      <td>@practiceneetmcqs - Becoming a doctor is your ...</td>\n",
       "    </tr>\n",
       "    <tr>\n",
       "      <th>1</th>\n",
       "      <td>https://www.youtube.com/watch?v=Am4RxFIuBZQ&amp;pp...</td>\n",
       "      <td>The Secret to Being a Happy Wife - Jen Weaver</td>\n",
       "      <td>Physical Health</td>\n",
       "      <td>@farticusmaximus2757 - i don't think pelvic ex...</td>\n",
       "    </tr>\n",
       "    <tr>\n",
       "      <th>2</th>\n",
       "      <td>https://www.youtube.com/watch?v=VU-otWoiaJw&amp;pp...</td>\n",
       "      <td>Is Home Birth Dangerous? | ObGyn Compares Hosp...</td>\n",
       "      <td>Physical Health</td>\n",
       "      <td>- Check out our video on abortion myths on th...</td>\n",
       "    </tr>\n",
       "    <tr>\n",
       "      <th>3</th>\n",
       "      <td>https://www.youtube.com/watch?v=pml0_8GFl3w&amp;pp...</td>\n",
       "      <td>Zoology : NCERT Line by Line</td>\n",
       "      <td>Physical Health</td>\n",
       "      <td>- Check NCERT Line by Line (Yakeen NEET Dropp...</td>\n",
       "    </tr>\n",
       "    <tr>\n",
       "      <th>4</th>\n",
       "      <td>https://www.youtube.com/watch?v=0HiZSpX9EcI&amp;pp...</td>\n",
       "      <td>Mix – Unacademy NEET</td>\n",
       "      <td>Physical Health</td>\n",
       "      <td>- Set Reminder for next chapter- \\n@aashijain...</td>\n",
       "    </tr>\n",
       "  </tbody>\n",
       "</table>\n",
       "</div>"
      ],
      "text/plain": [
       "                                               Links  \\\n",
       "0  https://www.youtube.com/watch?v=VWyXT7-pBMI&pp...   \n",
       "1  https://www.youtube.com/watch?v=Am4RxFIuBZQ&pp...   \n",
       "2  https://www.youtube.com/watch?v=VU-otWoiaJw&pp...   \n",
       "3  https://www.youtube.com/watch?v=pml0_8GFl3w&pp...   \n",
       "4  https://www.youtube.com/watch?v=0HiZSpX9EcI&pp...   \n",
       "\n",
       "                                         Video Title             Item  \\\n",
       "0  REPRODUCTIVE HEALTH in One Shot - All Theory, ...  Physical Health   \n",
       "1      The Secret to Being a Happy Wife - Jen Weaver  Physical Health   \n",
       "2  Is Home Birth Dangerous? | ObGyn Compares Hosp...  Physical Health   \n",
       "3                       Zoology : NCERT Line by Line  Physical Health   \n",
       "4                               Mix – Unacademy NEET  Physical Health   \n",
       "\n",
       "                                    Cleaned_Comments  \n",
       "0  @practiceneetmcqs - Becoming a doctor is your ...  \n",
       "1  @farticusmaximus2757 - i don't think pelvic ex...  \n",
       "2   - Check out our video on abortion myths on th...  \n",
       "3   - Check NCERT Line by Line (Yakeen NEET Dropp...  \n",
       "4   - Set Reminder for next chapter- \\n@aashijain...  "
      ]
     },
     "execution_count": 40,
     "metadata": {},
     "output_type": "execute_result"
    }
   ],
   "source": [
    "df.head()"
   ]
  },
  {
   "cell_type": "code",
   "execution_count": 44,
   "metadata": {},
   "outputs": [],
   "source": [
    "merged_df = df.merge(df1[['Links', 'Items']], on='Links', how='left')"
   ]
  },
  {
   "cell_type": "code",
   "execution_count": 45,
   "metadata": {},
   "outputs": [
    {
     "data": {
      "text/html": [
       "<div>\n",
       "<style scoped>\n",
       "    .dataframe tbody tr th:only-of-type {\n",
       "        vertical-align: middle;\n",
       "    }\n",
       "\n",
       "    .dataframe tbody tr th {\n",
       "        vertical-align: top;\n",
       "    }\n",
       "\n",
       "    .dataframe thead th {\n",
       "        text-align: right;\n",
       "    }\n",
       "</style>\n",
       "<table border=\"1\" class=\"dataframe\">\n",
       "  <thead>\n",
       "    <tr style=\"text-align: right;\">\n",
       "      <th></th>\n",
       "      <th>Links</th>\n",
       "      <th>Video Title</th>\n",
       "      <th>Item</th>\n",
       "      <th>Cleaned_Comments</th>\n",
       "      <th>Items</th>\n",
       "    </tr>\n",
       "  </thead>\n",
       "  <tbody>\n",
       "    <tr>\n",
       "      <th>0</th>\n",
       "      <td>https://www.youtube.com/watch?v=VWyXT7-pBMI&amp;pp...</td>\n",
       "      <td>REPRODUCTIVE HEALTH in One Shot - All Theory, ...</td>\n",
       "      <td>Physical Health</td>\n",
       "      <td>@practiceneetmcqs - Becoming a doctor is your ...</td>\n",
       "      <td>Sexual health</td>\n",
       "    </tr>\n",
       "    <tr>\n",
       "      <th>1</th>\n",
       "      <td>https://www.youtube.com/watch?v=Am4RxFIuBZQ&amp;pp...</td>\n",
       "      <td>The Secret to Being a Happy Wife - Jen Weaver</td>\n",
       "      <td>Physical Health</td>\n",
       "      <td>@farticusmaximus2757 - i don't think pelvic ex...</td>\n",
       "      <td>Sexual health</td>\n",
       "    </tr>\n",
       "    <tr>\n",
       "      <th>2</th>\n",
       "      <td>https://www.youtube.com/watch?v=VU-otWoiaJw&amp;pp...</td>\n",
       "      <td>Is Home Birth Dangerous? | ObGyn Compares Hosp...</td>\n",
       "      <td>Physical Health</td>\n",
       "      <td>- Check out our video on abortion myths on th...</td>\n",
       "      <td>Sexual health</td>\n",
       "    </tr>\n",
       "    <tr>\n",
       "      <th>3</th>\n",
       "      <td>https://www.youtube.com/watch?v=pml0_8GFl3w&amp;pp...</td>\n",
       "      <td>Zoology : NCERT Line by Line</td>\n",
       "      <td>Physical Health</td>\n",
       "      <td>- Check NCERT Line by Line (Yakeen NEET Dropp...</td>\n",
       "      <td>Reproductive health</td>\n",
       "    </tr>\n",
       "    <tr>\n",
       "      <th>4</th>\n",
       "      <td>https://www.youtube.com/watch?v=0HiZSpX9EcI&amp;pp...</td>\n",
       "      <td>Mix – Unacademy NEET</td>\n",
       "      <td>Physical Health</td>\n",
       "      <td>- Set Reminder for next chapter- \\n@aashijain...</td>\n",
       "      <td>Reproductive health</td>\n",
       "    </tr>\n",
       "  </tbody>\n",
       "</table>\n",
       "</div>"
      ],
      "text/plain": [
       "                                               Links  \\\n",
       "0  https://www.youtube.com/watch?v=VWyXT7-pBMI&pp...   \n",
       "1  https://www.youtube.com/watch?v=Am4RxFIuBZQ&pp...   \n",
       "2  https://www.youtube.com/watch?v=VU-otWoiaJw&pp...   \n",
       "3  https://www.youtube.com/watch?v=pml0_8GFl3w&pp...   \n",
       "4  https://www.youtube.com/watch?v=0HiZSpX9EcI&pp...   \n",
       "\n",
       "                                         Video Title             Item  \\\n",
       "0  REPRODUCTIVE HEALTH in One Shot - All Theory, ...  Physical Health   \n",
       "1      The Secret to Being a Happy Wife - Jen Weaver  Physical Health   \n",
       "2  Is Home Birth Dangerous? | ObGyn Compares Hosp...  Physical Health   \n",
       "3                       Zoology : NCERT Line by Line  Physical Health   \n",
       "4                               Mix – Unacademy NEET  Physical Health   \n",
       "\n",
       "                                    Cleaned_Comments                Items  \n",
       "0  @practiceneetmcqs - Becoming a doctor is your ...        Sexual health  \n",
       "1  @farticusmaximus2757 - i don't think pelvic ex...        Sexual health  \n",
       "2   - Check out our video on abortion myths on th...        Sexual health  \n",
       "3   - Check NCERT Line by Line (Yakeen NEET Dropp...  Reproductive health  \n",
       "4   - Set Reminder for next chapter- \\n@aashijain...  Reproductive health  "
      ]
     },
     "execution_count": 45,
     "metadata": {},
     "output_type": "execute_result"
    }
   ],
   "source": [
    "merged_df.head()"
   ]
  },
  {
   "cell_type": "code",
   "execution_count": 52,
   "metadata": {},
   "outputs": [],
   "source": [
    "merged_df.drop(columns='Item', inplace=True)"
   ]
  },
  {
   "cell_type": "code",
   "execution_count": 53,
   "metadata": {},
   "outputs": [],
   "source": [
    "merged_df.to_csv('Youtube_scrapping_comments.csv', index=False)"
   ]
  },
  {
   "cell_type": "code",
   "execution_count": 54,
   "metadata": {},
   "outputs": [
    {
     "data": {
      "text/html": [
       "<div>\n",
       "<style scoped>\n",
       "    .dataframe tbody tr th:only-of-type {\n",
       "        vertical-align: middle;\n",
       "    }\n",
       "\n",
       "    .dataframe tbody tr th {\n",
       "        vertical-align: top;\n",
       "    }\n",
       "\n",
       "    .dataframe thead th {\n",
       "        text-align: right;\n",
       "    }\n",
       "</style>\n",
       "<table border=\"1\" class=\"dataframe\">\n",
       "  <thead>\n",
       "    <tr style=\"text-align: right;\">\n",
       "      <th></th>\n",
       "      <th>Links</th>\n",
       "      <th>Video Title</th>\n",
       "      <th>Cleaned_Comments</th>\n",
       "      <th>Items</th>\n",
       "    </tr>\n",
       "  </thead>\n",
       "  <tbody>\n",
       "    <tr>\n",
       "      <th>0</th>\n",
       "      <td>https://www.youtube.com/watch?v=VWyXT7-pBMI&amp;pp...</td>\n",
       "      <td>REPRODUCTIVE HEALTH in One Shot - All Theory, ...</td>\n",
       "      <td>@practiceneetmcqs - Becoming a doctor is your ...</td>\n",
       "      <td>Sexual health</td>\n",
       "    </tr>\n",
       "    <tr>\n",
       "      <th>1</th>\n",
       "      <td>https://www.youtube.com/watch?v=Am4RxFIuBZQ&amp;pp...</td>\n",
       "      <td>The Secret to Being a Happy Wife - Jen Weaver</td>\n",
       "      <td>@farticusmaximus2757 - i don't think pelvic ex...</td>\n",
       "      <td>Sexual health</td>\n",
       "    </tr>\n",
       "    <tr>\n",
       "      <th>2</th>\n",
       "      <td>https://www.youtube.com/watch?v=VU-otWoiaJw&amp;pp...</td>\n",
       "      <td>Is Home Birth Dangerous? | ObGyn Compares Hosp...</td>\n",
       "      <td>- Check out our video on abortion myths on th...</td>\n",
       "      <td>Sexual health</td>\n",
       "    </tr>\n",
       "    <tr>\n",
       "      <th>3</th>\n",
       "      <td>https://www.youtube.com/watch?v=pml0_8GFl3w&amp;pp...</td>\n",
       "      <td>Zoology : NCERT Line by Line</td>\n",
       "      <td>- Check NCERT Line by Line (Yakeen NEET Dropp...</td>\n",
       "      <td>Reproductive health</td>\n",
       "    </tr>\n",
       "    <tr>\n",
       "      <th>4</th>\n",
       "      <td>https://www.youtube.com/watch?v=0HiZSpX9EcI&amp;pp...</td>\n",
       "      <td>Mix – Unacademy NEET</td>\n",
       "      <td>- Set Reminder for next chapter- \\n@aashijain...</td>\n",
       "      <td>Reproductive health</td>\n",
       "    </tr>\n",
       "  </tbody>\n",
       "</table>\n",
       "</div>"
      ],
      "text/plain": [
       "                                               Links  \\\n",
       "0  https://www.youtube.com/watch?v=VWyXT7-pBMI&pp...   \n",
       "1  https://www.youtube.com/watch?v=Am4RxFIuBZQ&pp...   \n",
       "2  https://www.youtube.com/watch?v=VU-otWoiaJw&pp...   \n",
       "3  https://www.youtube.com/watch?v=pml0_8GFl3w&pp...   \n",
       "4  https://www.youtube.com/watch?v=0HiZSpX9EcI&pp...   \n",
       "\n",
       "                                         Video Title  \\\n",
       "0  REPRODUCTIVE HEALTH in One Shot - All Theory, ...   \n",
       "1      The Secret to Being a Happy Wife - Jen Weaver   \n",
       "2  Is Home Birth Dangerous? | ObGyn Compares Hosp...   \n",
       "3                       Zoology : NCERT Line by Line   \n",
       "4                               Mix – Unacademy NEET   \n",
       "\n",
       "                                    Cleaned_Comments                Items  \n",
       "0  @practiceneetmcqs - Becoming a doctor is your ...        Sexual health  \n",
       "1  @farticusmaximus2757 - i don't think pelvic ex...        Sexual health  \n",
       "2   - Check out our video on abortion myths on th...        Sexual health  \n",
       "3   - Check NCERT Line by Line (Yakeen NEET Dropp...  Reproductive health  \n",
       "4   - Set Reminder for next chapter- \\n@aashijain...  Reproductive health  "
      ]
     },
     "execution_count": 54,
     "metadata": {},
     "output_type": "execute_result"
    }
   ],
   "source": [
    "fg= pd.read_csv('Youtube_scrapping_comments.csv')\n",
    "fg.head()"
   ]
  },
  {
   "cell_type": "code",
   "execution_count": 58,
   "metadata": {},
   "outputs": [
    {
     "data": {
      "text/plain": [
       "array(['Sexual health', 'Reproductive health', 'Personal health',\n",
       "       'Community health', 'Global health', 'Public health',\n",
       "       'Population health', 'Personal hygiene', 'Hygiene',\n",
       "       'Hygiene practices', 'Physical Health', 'Mental health',\n",
       "       'Social health', 'Emotional health', 'Spiritual health',\n",
       "       'Environmental health', 'Intellectual health',\n",
       "       'Occupational health', 'Financial health', 'Interpersonal health',\n",
       "       'Cultural health'], dtype=object)"
      ]
     },
     "execution_count": 58,
     "metadata": {},
     "output_type": "execute_result"
    }
   ],
   "source": [
    "fg['Items'].unique()"
   ]
  }
 ],
 "metadata": {
  "kernelspec": {
   "display_name": "base",
   "language": "python",
   "name": "python3"
  },
  "language_info": {
   "codemirror_mode": {
    "name": "ipython",
    "version": 3
   },
   "file_extension": ".py",
   "mimetype": "text/x-python",
   "name": "python",
   "nbconvert_exporter": "python",
   "pygments_lexer": "ipython3",
   "version": "3.11.4"
  }
 },
 "nbformat": 4,
 "nbformat_minor": 2
}
